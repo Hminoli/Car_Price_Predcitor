{
 "cells": [
  {
   "cell_type": "code",
   "execution_count": 1,
   "id": "94fc73a5-3e47-48ab-aeeb-91caea62e3c3",
   "metadata": {},
   "outputs": [],
   "source": [
    "import pandas as pd\n",
    "import numpy as np\n",
    "import seaborn as sns\n",
    "from sklearn.model_selection import train_test_split\n",
    "from sklearn.metrics import mean_squared_error, r2_score\n",
    "import numpy as np\n",
    "\n",
    "from sklearn.linear_model import LinearRegression\n",
    "from sklearn.tree import DecisionTreeRegressor\n",
    "from sklearn.ensemble import BaggingRegressor, AdaBoostRegressor, RandomForestRegressor\n",
    "from sklearn.svm import SVR\n",
    "\n",
    "from sklearn.model_selection import GridSearchCV"
   ]
  },
  {
   "cell_type": "code",
   "execution_count": 2,
   "id": "a295b14a-e978-48a8-bc1f-3cdff5c15b49",
   "metadata": {},
   "outputs": [],
   "source": [
    "data = pd.read_csv(\"used_cars.xls\")"
   ]
  },
  {
   "cell_type": "code",
   "execution_count": 3,
   "id": "f7955008-a752-449d-9608-849b9938cebb",
   "metadata": {},
   "outputs": [
    {
     "data": {
      "text/html": [
       "<div>\n",
       "<style scoped>\n",
       "    .dataframe tbody tr th:only-of-type {\n",
       "        vertical-align: middle;\n",
       "    }\n",
       "\n",
       "    .dataframe tbody tr th {\n",
       "        vertical-align: top;\n",
       "    }\n",
       "\n",
       "    .dataframe thead th {\n",
       "        text-align: right;\n",
       "    }\n",
       "</style>\n",
       "<table border=\"1\" class=\"dataframe\">\n",
       "  <thead>\n",
       "    <tr style=\"text-align: right;\">\n",
       "      <th></th>\n",
       "      <th>make_year</th>\n",
       "      <th>mileage_kmpl</th>\n",
       "      <th>engine_cc</th>\n",
       "      <th>fuel_type</th>\n",
       "      <th>owner_count</th>\n",
       "      <th>price_usd</th>\n",
       "      <th>brand</th>\n",
       "      <th>transmission</th>\n",
       "      <th>color</th>\n",
       "      <th>service_history</th>\n",
       "      <th>accidents_reported</th>\n",
       "      <th>insurance_valid</th>\n",
       "    </tr>\n",
       "  </thead>\n",
       "  <tbody>\n",
       "    <tr>\n",
       "      <th>0</th>\n",
       "      <td>2001</td>\n",
       "      <td>8.17</td>\n",
       "      <td>4000</td>\n",
       "      <td>Petrol</td>\n",
       "      <td>4</td>\n",
       "      <td>8587.64</td>\n",
       "      <td>Chevrolet</td>\n",
       "      <td>Manual</td>\n",
       "      <td>White</td>\n",
       "      <td>NaN</td>\n",
       "      <td>0</td>\n",
       "      <td>No</td>\n",
       "    </tr>\n",
       "    <tr>\n",
       "      <th>1</th>\n",
       "      <td>2014</td>\n",
       "      <td>17.59</td>\n",
       "      <td>1500</td>\n",
       "      <td>Petrol</td>\n",
       "      <td>4</td>\n",
       "      <td>5943.50</td>\n",
       "      <td>Honda</td>\n",
       "      <td>Manual</td>\n",
       "      <td>Black</td>\n",
       "      <td>NaN</td>\n",
       "      <td>0</td>\n",
       "      <td>Yes</td>\n",
       "    </tr>\n",
       "    <tr>\n",
       "      <th>2</th>\n",
       "      <td>2023</td>\n",
       "      <td>18.09</td>\n",
       "      <td>2500</td>\n",
       "      <td>Diesel</td>\n",
       "      <td>5</td>\n",
       "      <td>9273.58</td>\n",
       "      <td>BMW</td>\n",
       "      <td>Automatic</td>\n",
       "      <td>Black</td>\n",
       "      <td>Full</td>\n",
       "      <td>1</td>\n",
       "      <td>Yes</td>\n",
       "    </tr>\n",
       "    <tr>\n",
       "      <th>3</th>\n",
       "      <td>2009</td>\n",
       "      <td>11.28</td>\n",
       "      <td>800</td>\n",
       "      <td>Petrol</td>\n",
       "      <td>1</td>\n",
       "      <td>6836.24</td>\n",
       "      <td>Hyundai</td>\n",
       "      <td>Manual</td>\n",
       "      <td>Blue</td>\n",
       "      <td>Full</td>\n",
       "      <td>0</td>\n",
       "      <td>Yes</td>\n",
       "    </tr>\n",
       "    <tr>\n",
       "      <th>4</th>\n",
       "      <td>2005</td>\n",
       "      <td>12.23</td>\n",
       "      <td>1000</td>\n",
       "      <td>Petrol</td>\n",
       "      <td>2</td>\n",
       "      <td>4625.79</td>\n",
       "      <td>Nissan</td>\n",
       "      <td>Automatic</td>\n",
       "      <td>Red</td>\n",
       "      <td>Full</td>\n",
       "      <td>0</td>\n",
       "      <td>Yes</td>\n",
       "    </tr>\n",
       "  </tbody>\n",
       "</table>\n",
       "</div>"
      ],
      "text/plain": [
       "   make_year  mileage_kmpl  engine_cc fuel_type  owner_count  price_usd  \\\n",
       "0       2001          8.17       4000    Petrol            4    8587.64   \n",
       "1       2014         17.59       1500    Petrol            4    5943.50   \n",
       "2       2023         18.09       2500    Diesel            5    9273.58   \n",
       "3       2009         11.28        800    Petrol            1    6836.24   \n",
       "4       2005         12.23       1000    Petrol            2    4625.79   \n",
       "\n",
       "       brand transmission  color service_history  accidents_reported  \\\n",
       "0  Chevrolet       Manual  White             NaN                   0   \n",
       "1      Honda       Manual  Black             NaN                   0   \n",
       "2        BMW    Automatic  Black            Full                   1   \n",
       "3    Hyundai       Manual   Blue            Full                   0   \n",
       "4     Nissan    Automatic    Red            Full                   0   \n",
       "\n",
       "  insurance_valid  \n",
       "0              No  \n",
       "1             Yes  \n",
       "2             Yes  \n",
       "3             Yes  \n",
       "4             Yes  "
      ]
     },
     "execution_count": 3,
     "metadata": {},
     "output_type": "execute_result"
    }
   ],
   "source": [
    "data.head()"
   ]
  },
  {
   "cell_type": "code",
   "execution_count": 4,
   "id": "e5f85da2-185d-4047-ab1b-b8f12fedfe53",
   "metadata": {},
   "outputs": [
    {
     "data": {
      "text/html": [
       "<div>\n",
       "<style scoped>\n",
       "    .dataframe tbody tr th:only-of-type {\n",
       "        vertical-align: middle;\n",
       "    }\n",
       "\n",
       "    .dataframe tbody tr th {\n",
       "        vertical-align: top;\n",
       "    }\n",
       "\n",
       "    .dataframe thead th {\n",
       "        text-align: right;\n",
       "    }\n",
       "</style>\n",
       "<table border=\"1\" class=\"dataframe\">\n",
       "  <thead>\n",
       "    <tr style=\"text-align: right;\">\n",
       "      <th></th>\n",
       "      <th>make_year</th>\n",
       "      <th>mileage_kmpl</th>\n",
       "      <th>engine_cc</th>\n",
       "      <th>fuel_type</th>\n",
       "      <th>owner_count</th>\n",
       "      <th>price_usd</th>\n",
       "      <th>brand</th>\n",
       "      <th>transmission</th>\n",
       "      <th>color</th>\n",
       "      <th>service_history</th>\n",
       "      <th>accidents_reported</th>\n",
       "      <th>insurance_valid</th>\n",
       "    </tr>\n",
       "  </thead>\n",
       "  <tbody>\n",
       "    <tr>\n",
       "      <th>9995</th>\n",
       "      <td>1996</td>\n",
       "      <td>15.25</td>\n",
       "      <td>1500</td>\n",
       "      <td>Petrol</td>\n",
       "      <td>2</td>\n",
       "      <td>5498.71</td>\n",
       "      <td>Hyundai</td>\n",
       "      <td>Manual</td>\n",
       "      <td>Silver</td>\n",
       "      <td>NaN</td>\n",
       "      <td>0</td>\n",
       "      <td>Yes</td>\n",
       "    </tr>\n",
       "    <tr>\n",
       "      <th>9996</th>\n",
       "      <td>1997</td>\n",
       "      <td>14.45</td>\n",
       "      <td>5000</td>\n",
       "      <td>Diesel</td>\n",
       "      <td>1</td>\n",
       "      <td>9588.31</td>\n",
       "      <td>Honda</td>\n",
       "      <td>Manual</td>\n",
       "      <td>Gray</td>\n",
       "      <td>Full</td>\n",
       "      <td>0</td>\n",
       "      <td>Yes</td>\n",
       "    </tr>\n",
       "    <tr>\n",
       "      <th>9997</th>\n",
       "      <td>2002</td>\n",
       "      <td>19.41</td>\n",
       "      <td>1000</td>\n",
       "      <td>Diesel</td>\n",
       "      <td>4</td>\n",
       "      <td>4557.10</td>\n",
       "      <td>Kia</td>\n",
       "      <td>Manual</td>\n",
       "      <td>Black</td>\n",
       "      <td>Full</td>\n",
       "      <td>0</td>\n",
       "      <td>Yes</td>\n",
       "    </tr>\n",
       "    <tr>\n",
       "      <th>9998</th>\n",
       "      <td>2005</td>\n",
       "      <td>12.95</td>\n",
       "      <td>4000</td>\n",
       "      <td>Petrol</td>\n",
       "      <td>5</td>\n",
       "      <td>7413.59</td>\n",
       "      <td>BMW</td>\n",
       "      <td>Automatic</td>\n",
       "      <td>Blue</td>\n",
       "      <td>Full</td>\n",
       "      <td>0</td>\n",
       "      <td>Yes</td>\n",
       "    </tr>\n",
       "    <tr>\n",
       "      <th>9999</th>\n",
       "      <td>2007</td>\n",
       "      <td>18.81</td>\n",
       "      <td>5000</td>\n",
       "      <td>Petrol</td>\n",
       "      <td>1</td>\n",
       "      <td>11634.09</td>\n",
       "      <td>BMW</td>\n",
       "      <td>Automatic</td>\n",
       "      <td>Silver</td>\n",
       "      <td>Full</td>\n",
       "      <td>0</td>\n",
       "      <td>Yes</td>\n",
       "    </tr>\n",
       "  </tbody>\n",
       "</table>\n",
       "</div>"
      ],
      "text/plain": [
       "      make_year  mileage_kmpl  engine_cc fuel_type  owner_count  price_usd  \\\n",
       "9995       1996         15.25       1500    Petrol            2    5498.71   \n",
       "9996       1997         14.45       5000    Diesel            1    9588.31   \n",
       "9997       2002         19.41       1000    Diesel            4    4557.10   \n",
       "9998       2005         12.95       4000    Petrol            5    7413.59   \n",
       "9999       2007         18.81       5000    Petrol            1   11634.09   \n",
       "\n",
       "        brand transmission   color service_history  accidents_reported  \\\n",
       "9995  Hyundai       Manual  Silver             NaN                   0   \n",
       "9996    Honda       Manual    Gray            Full                   0   \n",
       "9997      Kia       Manual   Black            Full                   0   \n",
       "9998      BMW    Automatic    Blue            Full                   0   \n",
       "9999      BMW    Automatic  Silver            Full                   0   \n",
       "\n",
       "     insurance_valid  \n",
       "9995             Yes  \n",
       "9996             Yes  \n",
       "9997             Yes  \n",
       "9998             Yes  \n",
       "9999             Yes  "
      ]
     },
     "execution_count": 4,
     "metadata": {},
     "output_type": "execute_result"
    }
   ],
   "source": [
    "data.tail()"
   ]
  },
  {
   "cell_type": "code",
   "execution_count": 5,
   "id": "25837bbb-e038-428b-b981-516473b44e5f",
   "metadata": {},
   "outputs": [
    {
     "data": {
      "text/plain": [
       "<Axes: xlabel='engine_cc', ylabel='Count'>"
      ]
     },
     "execution_count": 5,
     "metadata": {},
     "output_type": "execute_result"
    },
    {
     "data": {
      "image/png": "[encoded data removed]",
      "text/plain": [
       "<Figure size 640x480 with 1 Axes>"
      ]
     },
     "metadata": {},
     "output_type": "display_data"
    }
   ],
   "source": [
    "sns.histplot(x=data['engine_cc'])"
   ]
  },
  {
   "cell_type": "code",
   "execution_count": 6,
   "id": "13024768-45dd-4d85-8523-20a2b326255f",
   "metadata": {},
   "outputs": [
    {
     "data": {
      "text/plain": [
       "(10000, 12)"
      ]
     },
     "execution_count": 6,
     "metadata": {},
     "output_type": "execute_result"
    }
   ],
   "source": [
    "data.shape"
   ]
  },
  {
   "cell_type": "code",
   "execution_count": 7,
   "id": "805e6b0b-2140-4de9-a068-04564d3d447f",
   "metadata": {},
   "outputs": [
    {
     "name": "stdout",
     "output_type": "stream",
     "text": [
      "<class 'pandas.core.frame.DataFrame'>\n",
      "RangeIndex: 10000 entries, 0 to 9999\n",
      "Data columns (total 12 columns):\n",
      " #   Column              Non-Null Count  Dtype  \n",
      "---  ------              --------------  -----  \n",
      " 0   make_year           10000 non-null  int64  \n",
      " 1   mileage_kmpl        10000 non-null  float64\n",
      " 2   engine_cc           10000 non-null  int64  \n",
      " 3   fuel_type           10000 non-null  object \n",
      " 4   owner_count         10000 non-null  int64  \n",
      " 5   price_usd           10000 non-null  float64\n",
      " 6   brand               10000 non-null  object \n",
      " 7   transmission        10000 non-null  object \n",
      " 8   color               10000 non-null  object \n",
      " 9   service_history     7962 non-null   object \n",
      " 10  accidents_reported  10000 non-null  int64  \n",
      " 11  insurance_valid     10000 non-null  object \n",
      "dtypes: float64(2), int64(4), object(6)\n",
      "memory usage: 937.6+ KB\n"
     ]
    }
   ],
   "source": [
    "data.info()"
   ]
  },
  {
   "cell_type": "code",
   "execution_count": 8,
   "id": "3442fa7d-44e5-4c19-a363-632a7c9feb81",
   "metadata": {},
   "outputs": [],
   "source": [
    "cont_vars = ['mileage_kmpl','engine_cc','owner_count','accidents_reported']\n",
    "cat_vars = ['fuel_type','brand','transmission','color','service_history','insurance_valid']"
   ]
  },
  {
   "cell_type": "markdown",
   "id": "123529c5-8230-45f5-abaa-d088bbc14246",
   "metadata": {},
   "source": [
    "### Missing values"
   ]
  },
  {
   "cell_type": "code",
   "execution_count": 9,
   "id": "6ab250d5-e9a2-40ca-adad-6caa906ed9c5",
   "metadata": {},
   "outputs": [
    {
     "data": {
      "text/plain": [
       "make_year                0\n",
       "mileage_kmpl             0\n",
       "engine_cc                0\n",
       "fuel_type                0\n",
       "owner_count              0\n",
       "price_usd                0\n",
       "brand                    0\n",
       "transmission             0\n",
       "color                    0\n",
       "service_history       2038\n",
       "accidents_reported       0\n",
       "insurance_valid          0\n",
       "dtype: int64"
      ]
     },
     "execution_count": 9,
     "metadata": {},
     "output_type": "execute_result"
    }
   ],
   "source": [
    "data.isnull().sum()"
   ]
  },
  {
   "cell_type": "code",
   "execution_count": 10,
   "id": "0838d3f4-d21d-4247-a01f-fbff5009c7a3",
   "metadata": {},
   "outputs": [
    {
     "data": {
      "text/plain": [
       "service_history\n",
       "Full       4987\n",
       "Partial    2975\n",
       "Name: count, dtype: int64"
      ]
     },
     "execution_count": 10,
     "metadata": {},
     "output_type": "execute_result"
    }
   ],
   "source": [
    "data['service_history'].value_counts()"
   ]
  },
  {
   "cell_type": "code",
   "execution_count": 11,
   "id": "172d4415-3aea-4335-8f15-000da5842313",
   "metadata": {},
   "outputs": [
    {
     "name": "stderr",
     "output_type": "stream",
     "text": [
      "C:\\Users\\LENOVO\\AppData\\Local\\Temp\\ipykernel_27100\\862835138.py:1: FutureWarning: A value is trying to be set on a copy of a DataFrame or Series through chained assignment using an inplace method.\n",
      "The behavior will change in pandas 3.0. This inplace method will never work because the intermediate object on which we are setting values always behaves as a copy.\n",
      "\n",
      "For example, when doing 'df[col].method(value, inplace=True)', try using 'df.method({col: value}, inplace=True)' or df[col] = df[col].method(value) instead, to perform the operation inplace on the original object.\n",
      "\n",
      "\n",
      "  data['service_history'].fillna(data['service_history'].mode()[0], inplace=True)\n"
     ]
    }
   ],
   "source": [
    "data['service_history'].fillna(data['service_history'].mode()[0], inplace=True)"
   ]
  },
  {
   "cell_type": "code",
   "execution_count": 12,
   "id": "032803fc-cd6f-4e16-9790-00c600deda92",
   "metadata": {},
   "outputs": [
    {
     "data": {
      "text/plain": [
       "make_year             0\n",
       "mileage_kmpl          0\n",
       "engine_cc             0\n",
       "fuel_type             0\n",
       "owner_count           0\n",
       "price_usd             0\n",
       "brand                 0\n",
       "transmission          0\n",
       "color                 0\n",
       "service_history       0\n",
       "accidents_reported    0\n",
       "insurance_valid       0\n",
       "dtype: int64"
      ]
     },
     "execution_count": 12,
     "metadata": {},
     "output_type": "execute_result"
    }
   ],
   "source": [
    "data.isnull().sum()"
   ]
  },
  {
   "cell_type": "code",
   "execution_count": 13,
   "id": "8ed53125-caf1-4457-a192-e549db7dc90a",
   "metadata": {},
   "outputs": [
    {
     "name": "stdout",
     "output_type": "stream",
     "text": [
      "\n",
      "\n",
      "fuel_type\n",
      "Petrol      4968\n",
      "Diesel      4058\n",
      "Electric     974\n",
      "Name: count, dtype: int64\n",
      "\n",
      "\n",
      "brand\n",
      "Nissan        1089\n",
      "Volkswagen    1033\n",
      "BMW           1021\n",
      "Tesla         1006\n",
      "Honda         1003\n",
      "Chevrolet      999\n",
      "Hyundai        989\n",
      "Toyota         956\n",
      "Kia            955\n",
      "Ford           949\n",
      "Name: count, dtype: int64\n",
      "\n",
      "\n",
      "transmission\n",
      "Manual       5985\n",
      "Automatic    4015\n",
      "Name: count, dtype: int64\n",
      "\n",
      "\n",
      "color\n",
      "Gray      1705\n",
      "Black     1702\n",
      "Red       1678\n",
      "White     1651\n",
      "Blue      1634\n",
      "Silver    1630\n",
      "Name: count, dtype: int64\n",
      "\n",
      "\n",
      "service_history\n",
      "Full       7025\n",
      "Partial    2975\n",
      "Name: count, dtype: int64\n",
      "\n",
      "\n",
      "insurance_valid\n",
      "Yes    7934\n",
      "No     2066\n",
      "Name: count, dtype: int64\n"
     ]
    }
   ],
   "source": [
    "cat_vars = ['fuel_type','brand','transmission','color','service_history','insurance_valid']\n",
    "\n",
    "for i in cat_vars:\n",
    "    print('\\n')\n",
    "    print(data[i].value_counts())"
   ]
  },
  {
   "cell_type": "markdown",
   "id": "ea503109-e9a6-42bf-85eb-b9cb7fedf307",
   "metadata": {},
   "source": [
    "### Target variable"
   ]
  },
  {
   "cell_type": "code",
   "execution_count": 14,
   "id": "f27636f7-a080-4370-bcf2-0259a5822ac0",
   "metadata": {},
   "outputs": [
    {
     "data": {
      "text/plain": [
       "<Axes: xlabel='price_usd', ylabel='Count'>"
      ]
     },
     "execution_count": 14,
     "metadata": {},
     "output_type": "execute_result"
    },
    {
     "data": {
      "image/png": "[encoded data removed]",
      "text/plain": [
       "<Figure size 640x480 with 1 Axes>"
      ]
     },
     "metadata": {},
     "output_type": "display_data"
    }
   ],
   "source": [
    "sns.histplot(x=data['price_usd'])"
   ]
  },
  {
   "cell_type": "code",
   "execution_count": 15,
   "id": "a845c899-38e1-4752-94fa-a3e65dcc1c37",
   "metadata": {},
   "outputs": [
    {
     "data": {
      "text/plain": [
       "np.float64(17647.63)"
      ]
     },
     "execution_count": 15,
     "metadata": {},
     "output_type": "execute_result"
    }
   ],
   "source": [
    "data['price_usd'].max()"
   ]
  },
  {
   "cell_type": "markdown",
   "id": "b29f1e99-d002-4bc6-913b-7b8993224d7c",
   "metadata": {},
   "source": [
    "### Correlation"
   ]
  },
  {
   "cell_type": "code",
   "execution_count": 16,
   "id": "4d800b4a-8d47-46ef-8499-aec9ce89ef0a",
   "metadata": {},
   "outputs": [
    {
     "data": {
      "text/html": [
       "<div>\n",
       "<style scoped>\n",
       "    .dataframe tbody tr th:only-of-type {\n",
       "        vertical-align: middle;\n",
       "    }\n",
       "\n",
       "    .dataframe tbody tr th {\n",
       "        vertical-align: top;\n",
       "    }\n",
       "\n",
       "    .dataframe thead th {\n",
       "        text-align: right;\n",
       "    }\n",
       "</style>\n",
       "<table border=\"1\" class=\"dataframe\">\n",
       "  <thead>\n",
       "    <tr style=\"text-align: right;\">\n",
       "      <th></th>\n",
       "      <th>mileage_kmpl</th>\n",
       "      <th>engine_cc</th>\n",
       "      <th>owner_count</th>\n",
       "      <th>accidents_reported</th>\n",
       "      <th>price_usd</th>\n",
       "    </tr>\n",
       "  </thead>\n",
       "  <tbody>\n",
       "    <tr>\n",
       "      <th>mileage_kmpl</th>\n",
       "      <td>1.000000</td>\n",
       "      <td>-0.003222</td>\n",
       "      <td>-0.008310</td>\n",
       "      <td>0.004567</td>\n",
       "      <td>0.211971</td>\n",
       "    </tr>\n",
       "    <tr>\n",
       "      <th>engine_cc</th>\n",
       "      <td>-0.003222</td>\n",
       "      <td>1.000000</td>\n",
       "      <td>-0.000358</td>\n",
       "      <td>-0.007750</td>\n",
       "      <td>0.678161</td>\n",
       "    </tr>\n",
       "    <tr>\n",
       "      <th>owner_count</th>\n",
       "      <td>-0.008310</td>\n",
       "      <td>-0.000358</td>\n",
       "      <td>1.000000</td>\n",
       "      <td>-0.009365</td>\n",
       "      <td>-0.262266</td>\n",
       "    </tr>\n",
       "    <tr>\n",
       "      <th>accidents_reported</th>\n",
       "      <td>0.004567</td>\n",
       "      <td>-0.007750</td>\n",
       "      <td>-0.009365</td>\n",
       "      <td>1.000000</td>\n",
       "      <td>-0.001461</td>\n",
       "    </tr>\n",
       "    <tr>\n",
       "      <th>price_usd</th>\n",
       "      <td>0.211971</td>\n",
       "      <td>0.678161</td>\n",
       "      <td>-0.262266</td>\n",
       "      <td>-0.001461</td>\n",
       "      <td>1.000000</td>\n",
       "    </tr>\n",
       "  </tbody>\n",
       "</table>\n",
       "</div>"
      ],
      "text/plain": [
       "                    mileage_kmpl  engine_cc  owner_count  accidents_reported  \\\n",
       "mileage_kmpl            1.000000  -0.003222    -0.008310            0.004567   \n",
       "engine_cc              -0.003222   1.000000    -0.000358           -0.007750   \n",
       "owner_count            -0.008310  -0.000358     1.000000           -0.009365   \n",
       "accidents_reported      0.004567  -0.007750    -0.009365            1.000000   \n",
       "price_usd               0.211971   0.678161    -0.262266           -0.001461   \n",
       "\n",
       "                    price_usd  \n",
       "mileage_kmpl         0.211971  \n",
       "engine_cc            0.678161  \n",
       "owner_count         -0.262266  \n",
       "accidents_reported  -0.001461  \n",
       "price_usd            1.000000  "
      ]
     },
     "execution_count": 16,
     "metadata": {},
     "output_type": "execute_result"
    }
   ],
   "source": [
    "data[['mileage_kmpl','engine_cc','owner_count','accidents_reported','price_usd']].corr()"
   ]
  },
  {
   "cell_type": "markdown",
   "id": "ba1979d7-d645-4958-9ad0-8b52b26f343c",
   "metadata": {},
   "source": [
    "## Drop columns"
   ]
  },
  {
   "cell_type": "code",
   "execution_count": 17,
   "id": "d64e1076-54e7-442f-9b23-85fb5da0f5c2",
   "metadata": {},
   "outputs": [],
   "source": [
    "data  = data.drop(['accidents_reported'], axis=1)"
   ]
  },
  {
   "cell_type": "code",
   "execution_count": 18,
   "id": "c5258139-b480-4dc7-9b52-447681982355",
   "metadata": {},
   "outputs": [
    {
     "data": {
      "text/html": [
       "<div>\n",
       "<style scoped>\n",
       "    .dataframe tbody tr th:only-of-type {\n",
       "        vertical-align: middle;\n",
       "    }\n",
       "\n",
       "    .dataframe tbody tr th {\n",
       "        vertical-align: top;\n",
       "    }\n",
       "\n",
       "    .dataframe thead th {\n",
       "        text-align: right;\n",
       "    }\n",
       "</style>\n",
       "<table border=\"1\" class=\"dataframe\">\n",
       "  <thead>\n",
       "    <tr style=\"text-align: right;\">\n",
       "      <th></th>\n",
       "      <th>make_year</th>\n",
       "      <th>mileage_kmpl</th>\n",
       "      <th>engine_cc</th>\n",
       "      <th>fuel_type</th>\n",
       "      <th>owner_count</th>\n",
       "      <th>price_usd</th>\n",
       "      <th>brand</th>\n",
       "      <th>transmission</th>\n",
       "      <th>color</th>\n",
       "      <th>service_history</th>\n",
       "      <th>insurance_valid</th>\n",
       "    </tr>\n",
       "  </thead>\n",
       "  <tbody>\n",
       "    <tr>\n",
       "      <th>0</th>\n",
       "      <td>2001</td>\n",
       "      <td>8.17</td>\n",
       "      <td>4000</td>\n",
       "      <td>Petrol</td>\n",
       "      <td>4</td>\n",
       "      <td>8587.64</td>\n",
       "      <td>Chevrolet</td>\n",
       "      <td>Manual</td>\n",
       "      <td>White</td>\n",
       "      <td>Full</td>\n",
       "      <td>No</td>\n",
       "    </tr>\n",
       "    <tr>\n",
       "      <th>1</th>\n",
       "      <td>2014</td>\n",
       "      <td>17.59</td>\n",
       "      <td>1500</td>\n",
       "      <td>Petrol</td>\n",
       "      <td>4</td>\n",
       "      <td>5943.50</td>\n",
       "      <td>Honda</td>\n",
       "      <td>Manual</td>\n",
       "      <td>Black</td>\n",
       "      <td>Full</td>\n",
       "      <td>Yes</td>\n",
       "    </tr>\n",
       "    <tr>\n",
       "      <th>2</th>\n",
       "      <td>2023</td>\n",
       "      <td>18.09</td>\n",
       "      <td>2500</td>\n",
       "      <td>Diesel</td>\n",
       "      <td>5</td>\n",
       "      <td>9273.58</td>\n",
       "      <td>BMW</td>\n",
       "      <td>Automatic</td>\n",
       "      <td>Black</td>\n",
       "      <td>Full</td>\n",
       "      <td>Yes</td>\n",
       "    </tr>\n",
       "    <tr>\n",
       "      <th>3</th>\n",
       "      <td>2009</td>\n",
       "      <td>11.28</td>\n",
       "      <td>800</td>\n",
       "      <td>Petrol</td>\n",
       "      <td>1</td>\n",
       "      <td>6836.24</td>\n",
       "      <td>Hyundai</td>\n",
       "      <td>Manual</td>\n",
       "      <td>Blue</td>\n",
       "      <td>Full</td>\n",
       "      <td>Yes</td>\n",
       "    </tr>\n",
       "    <tr>\n",
       "      <th>4</th>\n",
       "      <td>2005</td>\n",
       "      <td>12.23</td>\n",
       "      <td>1000</td>\n",
       "      <td>Petrol</td>\n",
       "      <td>2</td>\n",
       "      <td>4625.79</td>\n",
       "      <td>Nissan</td>\n",
       "      <td>Automatic</td>\n",
       "      <td>Red</td>\n",
       "      <td>Full</td>\n",
       "      <td>Yes</td>\n",
       "    </tr>\n",
       "  </tbody>\n",
       "</table>\n",
       "</div>"
      ],
      "text/plain": [
       "   make_year  mileage_kmpl  engine_cc fuel_type  owner_count  price_usd  \\\n",
       "0       2001          8.17       4000    Petrol            4    8587.64   \n",
       "1       2014         17.59       1500    Petrol            4    5943.50   \n",
       "2       2023         18.09       2500    Diesel            5    9273.58   \n",
       "3       2009         11.28        800    Petrol            1    6836.24   \n",
       "4       2005         12.23       1000    Petrol            2    4625.79   \n",
       "\n",
       "       brand transmission  color service_history insurance_valid  \n",
       "0  Chevrolet       Manual  White            Full              No  \n",
       "1      Honda       Manual  Black            Full             Yes  \n",
       "2        BMW    Automatic  Black            Full             Yes  \n",
       "3    Hyundai       Manual   Blue            Full             Yes  \n",
       "4     Nissan    Automatic    Red            Full             Yes  "
      ]
     },
     "execution_count": 18,
     "metadata": {},
     "output_type": "execute_result"
    }
   ],
   "source": [
    "data.head()"
   ]
  },
  {
   "cell_type": "markdown",
   "id": "134a13d1-700a-49e4-b85e-9ea0847466f3",
   "metadata": {},
   "source": [
    "## Encoding variables"
   ]
  },
  {
   "cell_type": "code",
   "execution_count": 19,
   "id": "3f1ce9d1-c6bd-4525-8ada-0b730e6e62c6",
   "metadata": {},
   "outputs": [],
   "source": [
    "data = pd.get_dummies(data)"
   ]
  },
  {
   "cell_type": "code",
   "execution_count": 20,
   "id": "148a7c63-7e2f-46a2-a9d4-e6c9deb43a46",
   "metadata": {},
   "outputs": [
    {
     "data": {
      "text/plain": [
       "(10000, 30)"
      ]
     },
     "execution_count": 20,
     "metadata": {},
     "output_type": "execute_result"
    }
   ],
   "source": [
    "data.shape"
   ]
  },
  {
   "cell_type": "code",
   "execution_count": 21,
   "id": "2b5328cd-81b8-4eab-8e95-d8d1997cfbc1",
   "metadata": {},
   "outputs": [
    {
     "name": "stdout",
     "output_type": "stream",
     "text": [
      "<class 'pandas.core.frame.DataFrame'>\n",
      "RangeIndex: 10000 entries, 0 to 9999\n",
      "Data columns (total 30 columns):\n",
      " #   Column                   Non-Null Count  Dtype  \n",
      "---  ------                   --------------  -----  \n",
      " 0   make_year                10000 non-null  int64  \n",
      " 1   mileage_kmpl             10000 non-null  float64\n",
      " 2   engine_cc                10000 non-null  int64  \n",
      " 3   owner_count              10000 non-null  int64  \n",
      " 4   price_usd                10000 non-null  float64\n",
      " 5   fuel_type_Diesel         10000 non-null  bool   \n",
      " 6   fuel_type_Electric       10000 non-null  bool   \n",
      " 7   fuel_type_Petrol         10000 non-null  bool   \n",
      " 8   brand_BMW                10000 non-null  bool   \n",
      " 9   brand_Chevrolet          10000 non-null  bool   \n",
      " 10  brand_Ford               10000 non-null  bool   \n",
      " 11  brand_Honda              10000 non-null  bool   \n",
      " 12  brand_Hyundai            10000 non-null  bool   \n",
      " 13  brand_Kia                10000 non-null  bool   \n",
      " 14  brand_Nissan             10000 non-null  bool   \n",
      " 15  brand_Tesla              10000 non-null  bool   \n",
      " 16  brand_Toyota             10000 non-null  bool   \n",
      " 17  brand_Volkswagen         10000 non-null  bool   \n",
      " 18  transmission_Automatic   10000 non-null  bool   \n",
      " 19  transmission_Manual      10000 non-null  bool   \n",
      " 20  color_Black              10000 non-null  bool   \n",
      " 21  color_Blue               10000 non-null  bool   \n",
      " 22  color_Gray               10000 non-null  bool   \n",
      " 23  color_Red                10000 non-null  bool   \n",
      " 24  color_Silver             10000 non-null  bool   \n",
      " 25  color_White              10000 non-null  bool   \n",
      " 26  service_history_Full     10000 non-null  bool   \n",
      " 27  service_history_Partial  10000 non-null  bool   \n",
      " 28  insurance_valid_No       10000 non-null  bool   \n",
      " 29  insurance_valid_Yes      10000 non-null  bool   \n",
      "dtypes: bool(25), float64(2), int64(3)\n",
      "memory usage: 634.9 KB\n"
     ]
    }
   ],
   "source": [
    "data.info()"
   ]
  },
  {
   "cell_type": "markdown",
   "id": "761d681c-2476-4660-b8cd-216dd47678fb",
   "metadata": {},
   "source": [
    "## Split data"
   ]
  },
  {
   "cell_type": "code",
   "execution_count": 22,
   "id": "75396bfd-016c-404a-a08a-c958b6022ae2",
   "metadata": {},
   "outputs": [],
   "source": [
    "X = data.drop('price_usd',axis = 1)\n",
    "y = data['price_usd']"
   ]
  },
  {
   "cell_type": "code",
   "execution_count": 23,
   "id": "155eddd5-6073-4a6e-9170-9f83114b2804",
   "metadata": {},
   "outputs": [],
   "source": [
    "X_train, X_test, y_train, y_test = train_test_split(X,y,test_size = 0.25, random_state = 123)"
   ]
  },
  {
   "cell_type": "code",
   "execution_count": 24,
   "id": "021004ce-9fc0-453c-85b8-bc89bcc98e59",
   "metadata": {},
   "outputs": [],
   "source": [
    "def model_acc(model):\n",
    "    model.fit(X_train, y_train)\n",
    "    acc = model.score(X_test, y_test)\n",
    "    y_pred = model.predict(X_test)\n",
    "    mse = mean_squared_error(y_test, y_pred)\n",
    "    rmse = np.sqrt(mse)\n",
    "    r2 = r2_score(y_test, y_pred)\n",
    "    print(f\"Accuracy: {acc:.4f}\")\n",
    "    print(f\"MSE: {mse:.2f}, RMSE: {rmse:.2f}, R²: {r2:.4f}\\n\")"
   ]
  },
  {
   "cell_type": "code",
   "execution_count": 25,
   "id": "c1b57cc9-4cbe-4a69-81d9-96f1e12fa1d2",
   "metadata": {},
   "outputs": [
    {
     "name": "stdout",
     "output_type": "stream",
     "text": [
      "Evaluating Linear Regression\n",
      "Accuracy: 0.8696\n",
      "MSE: 998642.69, RMSE: 999.32, R²: 0.8696\n",
      "\n",
      "Evaluating Decision Tree\n",
      "Accuracy: 0.7000\n",
      "MSE: 2298016.09, RMSE: 1515.92, R²: 0.7000\n",
      "\n",
      "Evaluating Bagging\n",
      "Accuracy: 0.8336\n",
      "MSE: 1274744.82, RMSE: 1129.05, R²: 0.8336\n",
      "\n",
      "Evaluating AdaBoost\n",
      "Accuracy: 0.8110\n",
      "MSE: 1447839.78, RMSE: 1203.26, R²: 0.8110\n",
      "\n",
      "Evaluating Random Forest\n",
      "Accuracy: 0.8484\n",
      "MSE: 1161697.19, RMSE: 1077.82, R²: 0.8484\n",
      "\n",
      "Evaluating SVR\n",
      "Accuracy: 0.2386\n",
      "MSE: 5832938.46, RMSE: 2415.15, R²: 0.2386\n",
      "\n"
     ]
    }
   ],
   "source": [
    "lr = LinearRegression()\n",
    "dt = DecisionTreeRegressor()\n",
    "bc = BaggingRegressor()\n",
    "ada = AdaBoostRegressor()\n",
    "rf = RandomForestRegressor()\n",
    "svr = SVR()\n",
    "\n",
    "models = {\n",
    "    'Linear Regression': lr,\n",
    "    'Decision Tree': dt,\n",
    "    'Bagging': bc,\n",
    "    'AdaBoost': ada,\n",
    "    'Random Forest': rf,\n",
    "    'SVR': svr\n",
    "}\n",
    "\n",
    "for name, model in models.items():\n",
    "    print(f\"Evaluating {name}\")\n",
    "    model_acc(model)"
   ]
  },
  {
   "cell_type": "code",
   "execution_count": 26,
   "id": "5efd7b7e-b5d8-4a5d-9353-f1522782e379",
   "metadata": {},
   "outputs": [
    {
     "name": "stdout",
     "output_type": "stream",
     "text": [
      "Best LinearRegression Model: LinearRegression(n_jobs=-1)\n",
      "Best Params: {'fit_intercept': True, 'n_jobs': -1}\n"
     ]
    }
   ],
   "source": [
    "param_grid = {\n",
    "    'fit_intercept': [True, False],\n",
    "    'n_jobs': [-1]\n",
    "}\n",
    "\n",
    "grid = GridSearchCV(\n",
    "    estimator=LinearRegression(),\n",
    "    param_grid=param_grid,\n",
    "    cv=5,\n",
    "    scoring='r2'\n",
    ")\n",
    "\n",
    "grid.fit(X_train, y_train)\n",
    "best_model = grid.best_estimator_\n",
    "print(\"Best LinearRegression Model:\", best_model)\n",
    "print(\"Best Params:\", grid.best_params_)\n"
   ]
  },
  {
   "cell_type": "code",
   "execution_count": 31,
   "id": "24542d6d-41b5-49fa-a129-54bace365650",
   "metadata": {},
   "outputs": [],
   "source": [
    "import pickle\n",
    "with open(\"predictor.pickle\",'wb') as file:\n",
    "    pickle.dump(best_model, file)"
   ]
  },
  {
   "cell_type": "code",
   "execution_count": 28,
   "id": "e48dab1a-a3b8-4456-bc53-994c2aed901a",
   "metadata": {},
   "outputs": [
    {
     "data": {
      "text/plain": [
       "Index(['make_year', 'mileage_kmpl', 'engine_cc', 'owner_count',\n",
       "       'fuel_type_Diesel', 'fuel_type_Electric', 'fuel_type_Petrol',\n",
       "       'brand_BMW', 'brand_Chevrolet', 'brand_Ford', 'brand_Honda',\n",
       "       'brand_Hyundai', 'brand_Kia', 'brand_Nissan', 'brand_Tesla',\n",
       "       'brand_Toyota', 'brand_Volkswagen', 'transmission_Automatic',\n",
       "       'transmission_Manual', 'color_Black', 'color_Blue', 'color_Gray',\n",
       "       'color_Red', 'color_Silver', 'color_White', 'service_history_Full',\n",
       "       'service_history_Partial', 'insurance_valid_No', 'insurance_valid_Yes'],\n",
       "      dtype='object')"
      ]
     },
     "execution_count": 28,
     "metadata": {},
     "output_type": "execute_result"
    }
   ],
   "source": [
    "X_train.columns"
   ]
  },
  {
   "cell_type": "code",
   "execution_count": null,
   "id": "65f97bdc-d637-49db-82da-5c9f5801aeea",
   "metadata": {},
   "outputs": [],
   "source": []
  },
  {
   "cell_type": "code",
   "execution_count": null,
   "id": "5b61c7d5-7648-4772-acea-c2908bb1d63a",
   "metadata": {},
   "outputs": [],
   "source": []
  },
  {
   "cell_type": "code",
   "execution_count": null,
   "id": "b3097734-0418-4e21-85c6-b932eb9460ce",
   "metadata": {},
   "outputs": [],
   "source": []
  }
 ],
 "metadata": {
  "kernelspec": {
   "display_name": "Python 3 (ipykernel)",
   "language": "python",
   "name": "python3"
  },
  "language_info": {
   "codemirror_mode": {
    "name": "ipython",
    "version": 3
   },
   "file_extension": ".py",
   "mimetype": "text/x-python",
   "name": "python",
   "nbconvert_exporter": "python",
   "pygments_lexer": "ipython3",
   "version": "3.12.1"
  }
 },
 "nbformat": 4,
 "nbformat_minor": 5
}
